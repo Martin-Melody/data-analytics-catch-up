{
 "cells": [
  {
   "cell_type": "code",
   "execution_count": 3,
   "id": "8edc5a92-c56b-47eb-9fed-99ec2544f5a0",
   "metadata": {},
   "outputs": [],
   "source": [
    "import requests\n",
    "from bs4 import BeautifulSoup\n",
    "import csv\n",
    "# Make a request to the website\n",
    "url = \"https://www.bjjheroes.com/a-z-bjj-fighters-list\" \n",
    "response = requests.get(url)\n",
    "\n",
    "# Create a Beautiful Soup object\n",
    "soup = BeautifulSoup(response.text, \"html.parser\")\n",
    "\n",
    "# Find the table with the specified ID\n",
    "table = soup.find(\"tbody\", {\"class\":\"row-hover\"})"
   ]
  },
  {
   "cell_type": "code",
   "execution_count": null,
   "id": "433fc189-49cc-4028-99b7-19bbda360ac2",
   "metadata": {},
   "outputs": [],
   "source": [
    "with open(\"data_new_sep.csv\", \"w\", newline=\"\", encoding=\"utf-8\") as file:\n",
    "    writer = csv.writer(file)\n",
    "    writer.writerow([\"First Name\", \"Last Name\", \"Nickname\", \"Team\", \"Link\"])\n",
    "    # Iterate over each row in the table\n",
    "    for row in table.find_all(\"tr\"):\n",
    "        # Find all the td elements in the row\n",
    "        tds = row.find_all(\"td\")\n",
    "\n",
    "        # Extract the text from each td element\n",
    "        data = [td.get_text(strip=True) for td in tds]\n",
    "        data_str = '|'.join(data)\n",
    "        # Find the first anchor tag in the row\n",
    "        anchor = row.find(\"a\")\n",
    "        # Extract the href attribute value\n",
    "        href = anchor[\"href\"]\n",
    "        href_response = requests.get(\"https://www.bjjheroes.com\"+href)\n",
    "        # Create a Beautiful Soup object for the href URL\n",
    "        href_soup = BeautifulSoup(href_response.text, \"html.parser\")\n",
    "\n",
    "        # Find the table with the specified class\n",
    "        href_table = href_soup.find(\"tbody\")"
   ]
  },
  {
   "cell_type": "code",
   "execution_count": null,
   "id": "8ede5473-fac5-4cb4-8f0e-2e03af555bf2",
   "metadata": {},
   "outputs": [],
   "source": [
    "href_table = href_soup.find(\"tbody\")\n",
    "        #print(data, href_table)\n",
    "        if href_table:\n",
    "            #print(href_table)\n",
    "            # Extract the data from the table\n",
    "            for href_row in href_table.find_all(\"tr\"):\n",
    "                # Find all the td elements in the row\n",
    "                href_tds = href_row.find_all(\"td\")\n",
    "                #print(href_tds, \"href_tds\")\n",
    "                # Extract the text from each td element\n",
    "                href_data = [td.get_text(strip=True) for td in href_tds]\n",
    "                #print(href_data, \"href_data\")\n",
    "                # Write the href and data to the CSV file\n",
    "                href_data_str = '|'.join(href_data)\n",
    "                #print(href_data_str)\n",
    "                writer.writerow([href ,data_str, href_data_str])\n",
    "        else:\n",
    "            writer.writerow([href, data, None])\n",
    "        # Flush the file buffer to ensure data is written to disk\n",
    "        file.flush()"
   ]
  },
  {
   "cell_type": "code",
   "execution_count": null,
   "id": "75756e64-b813-4ed2-b6a1-93eaf441f040",
   "metadata": {},
   "outputs": [],
   "source": []
  }
 ],
 "metadata": {
  "kernelspec": {
   "display_name": "Python 3 (ipykernel)",
   "language": "python",
   "name": "python3"
  },
  "language_info": {
   "codemirror_mode": {
    "name": "ipython",
    "version": 3
   },
   "file_extension": ".py",
   "mimetype": "text/x-python",
   "name": "python",
   "nbconvert_exporter": "python",
   "pygments_lexer": "ipython3",
   "version": "3.12.0"
  }
 },
 "nbformat": 4,
 "nbformat_minor": 5
}
